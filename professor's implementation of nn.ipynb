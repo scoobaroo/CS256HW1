{
 "cells": [
  {
   "cell_type": "code",
   "execution_count": 1,
   "metadata": {
    "collapsed": true
   },
   "outputs": [],
   "source": [
    "import numpy as np\n",
    "import pandas as pd\n"
   ]
  },
  {
   "cell_type": "code",
   "execution_count": 18,
   "metadata": {
    "collapsed": false
   },
   "outputs": [],
   "source": [
    "def actF(x):\n",
    "    act = math.tanh(x)\n",
    "    return [act, 1-act*act]\n",
    "\n",
    "class NodeLayer:\n",
    "    def __init__(self,nrNodes,outputLayer = False):\n",
    "        self.nrNodes = nrNodes\n",
    "        self.outputLayer = outputLayer\n",
    "        self.bottom_values = np.zeros([nrNodes])\n",
    "        self.top_values = np.zeros([nrNodes])\n",
    "        self.derivative_of_values = np.zeros([nrNodes])\n",
    "        self.top_error_grad = np.zeros([nrNodes])\n",
    "        self.bottom_error_grad = np.zeros([nrNodes])\n",
    "        \n",
    "    def forward_pass(self):\n",
    "        if self.outputLayer == False:\n",
    "            for nodeNo in range(self.nrNodes):\n",
    "                self.top_values[nodeNo], self.derivative_of_values[nodeNo] = actF(x)\n",
    "    \n",
    "    def backward_pass(self):\n",
    "        for nodeNo in range(self.nrNodes):\n",
    "            ## my guess\n",
    "            self.bottom_error_grad[nodeNo] = self.top_error_grad.dot(self.weights.transpose())\n",
    "    \n",
    "    def softmax_normaliztion(self):\n",
    "        self.top_values = np.array([math.exp(v) for v in self.bottom_values])\n",
    "        softmax_sum = np.sum(self.top_values)\n",
    "        self.top_values /= softmax_sum\n",
    "        \n",
    "    def update_weights(self):\n",
    "        pass\n",
    "\n",
    "class WeightConnection:\n",
    "    def __init__(self, nrNodesIn, nrNodesOut):\n",
    "        self.nrNodesIn = nrNodesIn\n",
    "        self.nrNodesOut = nrNodesOut\n",
    "        self.weights = np.random.uniform(-1,1,[nrNodesOut,nrNodesIn+1])\n",
    "        self.bottom_values = np.zeros([nrNodesIn])\n",
    "        self.top_values = np.zeros([nrNodesIn])\n",
    "        self.top_error_grad = np.zeros([nrNodesIn])\n",
    "        self.bottom_error_grad = np.zeros([nrNodesIn])\n",
    "        self.delta = np.zeros(self.weights.shape)\n",
    "    def forward_pass(self):\n",
    "        self.top_values = self.weights.dot(self.bottom_values)\n",
    "    def backward_pass(self):\n",
    "        self.bottom_error_grad = self.weights.transpose().dot(self.top_error_values)\n",
    "    def add_weight_gradient(self):\n",
    "        self.delta += np.outer(self.top_error_grad, self.bottom_values)\n",
    "    def weight_update(self, eta):\n",
    "        self.weights -= eta * self.delta\n",
    "        self.delta = np.zeros(self.weights.shape)\n",
    "        \n",
    "def update_weights(nn,eta):\n",
    "    for layer in nn:\n",
    "        layer.update_weights(eta)\n",
    "\n",
    "def forward_backward_pass(nn,x,y):\n",
    "    forward_pass(nn,x)\n",
    "    backward_pass(nn,y)\n",
    "    for layerNo in range(1,len(nn),2): # only for weight connection layers\n",
    "        nn[layerNo].add_weight_gradient()\n",
    "        \n",
    "def backward_pass(nn,target):\n",
    "    nn[-1].bottom_error_grad = nn[-1].top_values - target\n",
    "    for layerNo in range(len(nn)-2, -1, -1):\n",
    "        nn[layerNo].top_error_grad = nn[layerNo+1].bottom_error_grad\n",
    "        nn[layerNo].backward_pass()\n",
    "\n",
    "def forward_pass(nn, x):\n",
    "    nn[0].top_values = x\n",
    "    for layerNo, layer in enumerate(nn[1:]):\n",
    "        layer.bottom_values = nn[layerNo].top_values\n",
    "        layer.forward_pass()\n",
    "    nn[-1].softmax_normalization\n",
    "    return nn[-1].top_values\n",
    "\n",
    "def training(nn, tr, steps, eta):\n",
    "    for _ in range(steps):\n",
    "        for x,y in tr:\n",
    "            forward_backward_pass(nn, x, y)\n",
    "            update_weights(nn,eta\n",
    ")\n",
    "nn = []\n",
    "nn.append(NodeLayer(2))\n",
    "nn.append(WeightConnection(2,10))\n",
    "nn.append(NodeLayer(10))\n",
    "nn.append(WeightConnection(10,5))\n",
    "nn.append(NodeLayer(5))\n",
    "nn.append(WeightConnection(5,2))\n",
    "nn.append(NodeLayer(2,outputLayer = True))"
   ]
  },
  {
   "cell_type": "code",
   "execution_count": 19,
   "metadata": {
    "collapsed": true
   },
   "outputs": [],
   "source": [
    "%store -r data"
   ]
  },
  {
   "cell_type": "code",
   "execution_count": 20,
   "metadata": {
    "collapsed": false
   },
   "outputs": [
    {
     "ename": "TypeError",
     "evalue": "Cannot cast array data from dtype('float64') to dtype('<U32') according to the rule 'safe'",
     "output_type": "error",
     "traceback": [
      "\u001b[0;31m---------------------------------------------------------------------------\u001b[0m",
      "\u001b[0;31mTypeError\u001b[0m                                 Traceback (most recent call last)",
      "\u001b[0;32m<ipython-input-20-eee2de10fb9e>\u001b[0m in \u001b[0;36m<module>\u001b[0;34m()\u001b[0m\n\u001b[0;32m----> 1\u001b[0;31m \u001b[0mtraining\u001b[0m\u001b[0;34m(\u001b[0m\u001b[0mnn\u001b[0m\u001b[0;34m,\u001b[0m \u001b[0mdata\u001b[0m\u001b[0;34m,\u001b[0m \u001b[0;36m2000\u001b[0m\u001b[0;34m,\u001b[0m \u001b[0;36m0.01\u001b[0m\u001b[0;34m)\u001b[0m\u001b[0;34m\u001b[0m\u001b[0m\n\u001b[0m",
      "\u001b[0;32m<ipython-input-18-437debacb087>\u001b[0m in \u001b[0;36mtraining\u001b[0;34m(nn, tr, steps, eta)\u001b[0m\n\u001b[1;32m     78\u001b[0m     \u001b[0;32mfor\u001b[0m \u001b[0m_\u001b[0m \u001b[0;32min\u001b[0m \u001b[0mrange\u001b[0m\u001b[0;34m(\u001b[0m\u001b[0msteps\u001b[0m\u001b[0;34m)\u001b[0m\u001b[0;34m:\u001b[0m\u001b[0;34m\u001b[0m\u001b[0m\n\u001b[1;32m     79\u001b[0m         \u001b[0;32mfor\u001b[0m \u001b[0mx\u001b[0m\u001b[0;34m,\u001b[0m\u001b[0my\u001b[0m \u001b[0;32min\u001b[0m \u001b[0mtr\u001b[0m\u001b[0;34m:\u001b[0m\u001b[0;34m\u001b[0m\u001b[0m\n\u001b[0;32m---> 80\u001b[0;31m             \u001b[0mforward_backward_pass\u001b[0m\u001b[0;34m(\u001b[0m\u001b[0mnn\u001b[0m\u001b[0;34m,\u001b[0m \u001b[0mx\u001b[0m\u001b[0;34m,\u001b[0m \u001b[0my\u001b[0m\u001b[0;34m)\u001b[0m\u001b[0;34m\u001b[0m\u001b[0m\n\u001b[0m\u001b[1;32m     81\u001b[0m             update_weights(nn,eta\n\u001b[1;32m     82\u001b[0m )\n",
      "\u001b[0;32m<ipython-input-18-437debacb087>\u001b[0m in \u001b[0;36mforward_backward_pass\u001b[0;34m(nn, x, y)\u001b[0m\n\u001b[1;32m     56\u001b[0m \u001b[0;34m\u001b[0m\u001b[0m\n\u001b[1;32m     57\u001b[0m \u001b[0;32mdef\u001b[0m \u001b[0mforward_backward_pass\u001b[0m\u001b[0;34m(\u001b[0m\u001b[0mnn\u001b[0m\u001b[0;34m,\u001b[0m\u001b[0mx\u001b[0m\u001b[0;34m,\u001b[0m\u001b[0my\u001b[0m\u001b[0;34m)\u001b[0m\u001b[0;34m:\u001b[0m\u001b[0;34m\u001b[0m\u001b[0m\n\u001b[0;32m---> 58\u001b[0;31m     \u001b[0mforward_pass\u001b[0m\u001b[0;34m(\u001b[0m\u001b[0mnn\u001b[0m\u001b[0;34m,\u001b[0m\u001b[0mx\u001b[0m\u001b[0;34m)\u001b[0m\u001b[0;34m\u001b[0m\u001b[0m\n\u001b[0m\u001b[1;32m     59\u001b[0m     \u001b[0mbackward_pass\u001b[0m\u001b[0;34m(\u001b[0m\u001b[0mnn\u001b[0m\u001b[0;34m,\u001b[0m\u001b[0my\u001b[0m\u001b[0;34m)\u001b[0m\u001b[0;34m\u001b[0m\u001b[0m\n\u001b[1;32m     60\u001b[0m     \u001b[0;32mfor\u001b[0m \u001b[0mlayerNo\u001b[0m \u001b[0;32min\u001b[0m \u001b[0mrange\u001b[0m\u001b[0;34m(\u001b[0m\u001b[0;36m1\u001b[0m\u001b[0;34m,\u001b[0m\u001b[0mlen\u001b[0m\u001b[0;34m(\u001b[0m\u001b[0mnn\u001b[0m\u001b[0;34m)\u001b[0m\u001b[0;34m,\u001b[0m\u001b[0;36m2\u001b[0m\u001b[0;34m)\u001b[0m\u001b[0;34m:\u001b[0m \u001b[0;31m# only for weight connection layers\u001b[0m\u001b[0;34m\u001b[0m\u001b[0m\n",
      "\u001b[0;32m<ipython-input-18-437debacb087>\u001b[0m in \u001b[0;36mforward_pass\u001b[0;34m(nn, x)\u001b[0m\n\u001b[1;32m     71\u001b[0m     \u001b[0;32mfor\u001b[0m \u001b[0mlayerNo\u001b[0m\u001b[0;34m,\u001b[0m \u001b[0mlayer\u001b[0m \u001b[0;32min\u001b[0m \u001b[0menumerate\u001b[0m\u001b[0;34m(\u001b[0m\u001b[0mnn\u001b[0m\u001b[0;34m[\u001b[0m\u001b[0;36m1\u001b[0m\u001b[0;34m:\u001b[0m\u001b[0;34m]\u001b[0m\u001b[0;34m)\u001b[0m\u001b[0;34m:\u001b[0m\u001b[0;34m\u001b[0m\u001b[0m\n\u001b[1;32m     72\u001b[0m         \u001b[0mlayer\u001b[0m\u001b[0;34m.\u001b[0m\u001b[0mbottom_values\u001b[0m \u001b[0;34m=\u001b[0m \u001b[0mnn\u001b[0m\u001b[0;34m[\u001b[0m\u001b[0mlayerNo\u001b[0m\u001b[0;34m]\u001b[0m\u001b[0;34m.\u001b[0m\u001b[0mtop_values\u001b[0m\u001b[0;34m\u001b[0m\u001b[0m\n\u001b[0;32m---> 73\u001b[0;31m         \u001b[0mlayer\u001b[0m\u001b[0;34m.\u001b[0m\u001b[0mforward_pass\u001b[0m\u001b[0;34m(\u001b[0m\u001b[0;34m)\u001b[0m\u001b[0;34m\u001b[0m\u001b[0m\n\u001b[0m\u001b[1;32m     74\u001b[0m     \u001b[0mnn\u001b[0m\u001b[0;34m[\u001b[0m\u001b[0;34m-\u001b[0m\u001b[0;36m1\u001b[0m\u001b[0;34m]\u001b[0m\u001b[0;34m.\u001b[0m\u001b[0msoftmax_normalization\u001b[0m\u001b[0;34m\u001b[0m\u001b[0m\n\u001b[1;32m     75\u001b[0m     \u001b[0;32mreturn\u001b[0m \u001b[0mnn\u001b[0m\u001b[0;34m[\u001b[0m\u001b[0;34m-\u001b[0m\u001b[0;36m1\u001b[0m\u001b[0;34m]\u001b[0m\u001b[0;34m.\u001b[0m\u001b[0mtop_values\u001b[0m\u001b[0;34m\u001b[0m\u001b[0m\n",
      "\u001b[0;32m<ipython-input-18-437debacb087>\u001b[0m in \u001b[0;36mforward_pass\u001b[0;34m(self)\u001b[0m\n\u001b[1;32m     42\u001b[0m         \u001b[0mself\u001b[0m\u001b[0;34m.\u001b[0m\u001b[0mdelta\u001b[0m \u001b[0;34m=\u001b[0m \u001b[0mnp\u001b[0m\u001b[0;34m.\u001b[0m\u001b[0mzeros\u001b[0m\u001b[0;34m(\u001b[0m\u001b[0mself\u001b[0m\u001b[0;34m.\u001b[0m\u001b[0mweights\u001b[0m\u001b[0;34m.\u001b[0m\u001b[0mshape\u001b[0m\u001b[0;34m)\u001b[0m\u001b[0;34m\u001b[0m\u001b[0m\n\u001b[1;32m     43\u001b[0m     \u001b[0;32mdef\u001b[0m \u001b[0mforward_pass\u001b[0m\u001b[0;34m(\u001b[0m\u001b[0mself\u001b[0m\u001b[0;34m)\u001b[0m\u001b[0;34m:\u001b[0m\u001b[0;34m\u001b[0m\u001b[0m\n\u001b[0;32m---> 44\u001b[0;31m         \u001b[0mself\u001b[0m\u001b[0;34m.\u001b[0m\u001b[0mtop_values\u001b[0m \u001b[0;34m=\u001b[0m \u001b[0mself\u001b[0m\u001b[0;34m.\u001b[0m\u001b[0mweights\u001b[0m\u001b[0;34m.\u001b[0m\u001b[0mdot\u001b[0m\u001b[0;34m(\u001b[0m\u001b[0mself\u001b[0m\u001b[0;34m.\u001b[0m\u001b[0mbottom_values\u001b[0m\u001b[0;34m)\u001b[0m\u001b[0;34m\u001b[0m\u001b[0m\n\u001b[0m\u001b[1;32m     45\u001b[0m     \u001b[0;32mdef\u001b[0m \u001b[0mbackward_pass\u001b[0m\u001b[0;34m(\u001b[0m\u001b[0mself\u001b[0m\u001b[0;34m)\u001b[0m\u001b[0;34m:\u001b[0m\u001b[0;34m\u001b[0m\u001b[0m\n\u001b[1;32m     46\u001b[0m         \u001b[0mself\u001b[0m\u001b[0;34m.\u001b[0m\u001b[0mbottom_error_grad\u001b[0m \u001b[0;34m=\u001b[0m \u001b[0mself\u001b[0m\u001b[0;34m.\u001b[0m\u001b[0mweights\u001b[0m\u001b[0;34m.\u001b[0m\u001b[0mtranspose\u001b[0m\u001b[0;34m(\u001b[0m\u001b[0;34m)\u001b[0m\u001b[0;34m.\u001b[0m\u001b[0mdot\u001b[0m\u001b[0;34m(\u001b[0m\u001b[0mself\u001b[0m\u001b[0;34m.\u001b[0m\u001b[0mtop_error_values\u001b[0m\u001b[0;34m)\u001b[0m\u001b[0;34m\u001b[0m\u001b[0m\n",
      "\u001b[0;31mTypeError\u001b[0m: Cannot cast array data from dtype('float64') to dtype('<U32') according to the rule 'safe'"
     ]
    }
   ],
   "source": [
    "training(nn, data, 2000, 0.01)"
   ]
  },
  {
   "cell_type": "code",
   "execution_count": null,
   "metadata": {
    "collapsed": true
   },
   "outputs": [],
   "source": []
  }
 ],
 "metadata": {
  "kernelspec": {
   "display_name": "Python 3",
   "language": "python",
   "name": "python3"
  },
  "language_info": {
   "codemirror_mode": {
    "name": "ipython",
    "version": 3
   },
   "file_extension": ".py",
   "mimetype": "text/x-python",
   "name": "python",
   "nbconvert_exporter": "python",
   "pygments_lexer": "ipython3",
   "version": "3.6.0"
  }
 },
 "nbformat": 4,
 "nbformat_minor": 2
}
